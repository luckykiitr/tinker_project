{
 "cells": [
  {
   "cell_type": "code",
   "execution_count": 10,
   "id": "3be07f18-26ce-44c9-9b96-e9e18aeaf87c",
   "metadata": {},
   "outputs": [],
   "source": [
    "import sqlalchemy\n",
    "import datetime as dt\n",
    "import pandas as pd"
   ]
  },
  {
   "cell_type": "code",
   "execution_count": 11,
   "id": "c8aa0326-9cd7-4435-a222-249c8114c249",
   "metadata": {},
   "outputs": [],
   "source": [
    "expiry = dt.date(2021, 6, 24)"
   ]
  },
  {
   "cell_type": "code",
   "execution_count": 12,
   "id": "60e82424-ed1b-4777-8c19-bae14ed61e9a",
   "metadata": {},
   "outputs": [],
   "source": [
    "exp_string = expiry.strftime(\"%Y-%m-%d\")\n",
    "engine = sqlalchemy.create_engine(f'sqlite:///F:/Database/zerodha DataBase/nifty_options_data/{exp_string}.db')"
   ]
  },
  {
   "cell_type": "code",
   "execution_count": 41,
   "id": "1f340f99-5b85-412c-9690-caaf4b653913",
   "metadata": {},
   "outputs": [],
   "source": [
    "symbol = \"NIFTY21JUN15700CE\"\n",
    "df = pd.read_sql(f'SELECT * FROM {symbol};', engine)\n",
    "df[\"Time\"] = pd.to_datetime(df[\"Time\"])\n",
    "df.set_index(\"Time\", inplace = True)"
   ]
  },
  {
   "cell_type": "code",
   "execution_count": 42,
   "id": "933c2ecd-35ff-4b14-8ace-bd9f270a7961",
   "metadata": {},
   "outputs": [
    {
     "data": {
      "text/html": [
       "<div>\n",
       "<style scoped>\n",
       "    .dataframe tbody tr th:only-of-type {\n",
       "        vertical-align: middle;\n",
       "    }\n",
       "\n",
       "    .dataframe tbody tr th {\n",
       "        vertical-align: top;\n",
       "    }\n",
       "\n",
       "    .dataframe thead th {\n",
       "        text-align: right;\n",
       "    }\n",
       "</style>\n",
       "<table border=\"1\" class=\"dataframe\">\n",
       "  <thead>\n",
       "    <tr style=\"text-align: right;\">\n",
       "      <th></th>\n",
       "      <th>Open</th>\n",
       "      <th>High</th>\n",
       "      <th>Low</th>\n",
       "      <th>Close</th>\n",
       "      <th>Volume</th>\n",
       "    </tr>\n",
       "    <tr>\n",
       "      <th>Time</th>\n",
       "      <th></th>\n",
       "      <th></th>\n",
       "      <th></th>\n",
       "      <th></th>\n",
       "      <th></th>\n",
       "    </tr>\n",
       "  </thead>\n",
       "  <tbody>\n",
       "    <tr>\n",
       "      <th>2021-06-24 15:25:00</th>\n",
       "      <td>90.15</td>\n",
       "      <td>91.75</td>\n",
       "      <td>90.00</td>\n",
       "      <td>91.05</td>\n",
       "      <td>127125</td>\n",
       "    </tr>\n",
       "    <tr>\n",
       "      <th>2021-06-24 15:26:00</th>\n",
       "      <td>91.00</td>\n",
       "      <td>91.55</td>\n",
       "      <td>90.00</td>\n",
       "      <td>90.30</td>\n",
       "      <td>66000</td>\n",
       "    </tr>\n",
       "    <tr>\n",
       "      <th>2021-06-24 15:27:00</th>\n",
       "      <td>90.05</td>\n",
       "      <td>90.55</td>\n",
       "      <td>89.90</td>\n",
       "      <td>90.05</td>\n",
       "      <td>35100</td>\n",
       "    </tr>\n",
       "    <tr>\n",
       "      <th>2021-06-24 15:28:00</th>\n",
       "      <td>90.05</td>\n",
       "      <td>90.50</td>\n",
       "      <td>89.85</td>\n",
       "      <td>90.50</td>\n",
       "      <td>41325</td>\n",
       "    </tr>\n",
       "    <tr>\n",
       "      <th>2021-06-24 15:29:00</th>\n",
       "      <td>90.40</td>\n",
       "      <td>90.80</td>\n",
       "      <td>90.20</td>\n",
       "      <td>90.35</td>\n",
       "      <td>39675</td>\n",
       "    </tr>\n",
       "  </tbody>\n",
       "</table>\n",
       "</div>"
      ],
      "text/plain": [
       "                      Open   High    Low  Close  Volume\n",
       "Time                                                   \n",
       "2021-06-24 15:25:00  90.15  91.75  90.00  91.05  127125\n",
       "2021-06-24 15:26:00  91.00  91.55  90.00  90.30   66000\n",
       "2021-06-24 15:27:00  90.05  90.55  89.90  90.05   35100\n",
       "2021-06-24 15:28:00  90.05  90.50  89.85  90.50   41325\n",
       "2021-06-24 15:29:00  90.40  90.80  90.20  90.35   39675"
      ]
     },
     "execution_count": 42,
     "metadata": {},
     "output_type": "execute_result"
    }
   ],
   "source": [
    "df.tail()"
   ]
  },
  {
   "cell_type": "code",
   "execution_count": null,
   "id": "c18c4663-48c2-48cd-8ba0-a3730c0202a6",
   "metadata": {},
   "outputs": [],
   "source": []
  }
 ],
 "metadata": {
  "kernelspec": {
   "display_name": "Python 3 (ipykernel)",
   "language": "python",
   "name": "python3"
  },
  "language_info": {
   "codemirror_mode": {
    "name": "ipython",
    "version": 3
   },
   "file_extension": ".py",
   "mimetype": "text/x-python",
   "name": "python",
   "nbconvert_exporter": "python",
   "pygments_lexer": "ipython3",
   "version": "3.9.6"
  }
 },
 "nbformat": 4,
 "nbformat_minor": 5
}
